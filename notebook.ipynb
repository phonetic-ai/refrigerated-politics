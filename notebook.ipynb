{
 "metadata": {
  "language_info": {
   "codemirror_mode": {
    "name": "ipython",
    "version": 3
   },
   "file_extension": ".py",
   "mimetype": "text/x-python",
   "name": "python",
   "nbconvert_exporter": "python",
   "pygments_lexer": "ipython3",
   "version": "3.6.9-final"
  },
  "orig_nbformat": 2,
  "kernelspec": {
   "name": "Python 3.6.9 64-bit",
   "display_name": "Python 3.6.9 64-bit",
   "metadata": {
    "interpreter": {
     "hash": "767d51c1340bd893661ea55ea3124f6de3c7a262a8b4abca0554b478b1e2ff90"
    }
   }
  }
 },
 "nbformat": 4,
 "nbformat_minor": 2,
 "cells": [
  {
   "source": [
    "! mkdir -p data/Biden data/Trump\n",
    "! jq -r '.[] | [.file,.answer] | @sh' data.json | xargs -L 1 echo | parallel --will-cite --colsep ' ' wget 'https://static01.nyt.com/newsgraphics/2020/08/24/fridge-politics/assets/images/fridges/big/{1}' -O data/\\{2\\}/\\{1\\}"
   ],
   "cell_type": "code",
   "metadata": {
    "tags": [
     "outputPrepend"
    ]
   },
   "execution_count": null,
   "outputs": []
  },
  {
   "cell_type": "code",
   "execution_count": 1,
   "metadata": {},
   "outputs": [],
   "source": [
    "import numpy as np\n",
    "import tensorflow as tf\n",
    "import autokeras as ak"
   ]
  },
  {
   "cell_type": "code",
   "execution_count": 2,
   "metadata": {},
   "outputs": [
    {
     "output_type": "stream",
     "name": "stdout",
     "text": [
      "Found 429 files belonging to 2 classes.\n",
      "Using 344 files for training.\n",
      "WARNING:tensorflow:The operation `tf.image.convert_image_dtype` will be skipped since the input and output dtypes are identical.\n",
      "WARNING:tensorflow:The operation `tf.image.convert_image_dtype` will be skipped since the input and output dtypes are identical.\n",
      "WARNING:tensorflow:The operation `tf.image.convert_image_dtype` will be skipped since the input and output dtypes are identical.\n",
      "WARNING:tensorflow:The operation `tf.image.convert_image_dtype` will be skipped since the input and output dtypes are identical.\n",
      "Found 429 files belonging to 2 classes.\n",
      "Using 85 files for validation.\n",
      "WARNING:tensorflow:The operation `tf.image.convert_image_dtype` will be skipped since the input and output dtypes are identical.\n",
      "WARNING:tensorflow:The operation `tf.image.convert_image_dtype` will be skipped since the input and output dtypes are identical.\n",
      "WARNING:tensorflow:The operation `tf.image.convert_image_dtype` will be skipped since the input and output dtypes are identical.\n",
      "WARNING:tensorflow:The operation `tf.image.convert_image_dtype` will be skipped since the input and output dtypes are identical.\n"
     ]
    }
   ],
   "source": [
    "data_dir = './data'\n",
    "img_height = 700\n",
    "img_width = 525\n",
    "\n",
    "train_ds = tf.keras.preprocessing.image_dataset_from_directory(\n",
    "  data_dir,\n",
    "  validation_split=0.2,\n",
    "  subset=\"training\",\n",
    "  seed=123,\n",
    "  label_mode='binary',\n",
    "  image_size=(img_height, img_width),\n",
    "  batch_size=1000).unbatch().shuffle(buffer_size=1000, seed=123).cache().prefetch(buffer_size=1000)\n",
    "\n",
    "val_ds = tf.keras.preprocessing.image_dataset_from_directory(\n",
    "  data_dir,\n",
    "  validation_split=0.2,\n",
    "  subset=\"validation\",\n",
    "  seed=123,\n",
    "  label_mode='binary',\n",
    "  image_size=(img_height, img_width),\n",
    "  batch_size=1000).unbatch().shuffle(buffer_size=1000, seed=123).cache().prefetch(buffer_size=1000)"
   ]
  },
  {
   "cell_type": "code",
   "execution_count": 3,
   "metadata": {},
   "outputs": [
    {
     "output_type": "stream",
     "name": "stdout",
     "text": [
      "Trial 23 Complete [00h 03m 53s]\n",
      "val_accuracy: 0.5882353186607361\n",
      "\n",
      "Best val_accuracy So Far: 0.6117647290229797\n",
      "Total elapsed time: 02h 38m 51s\n",
      "INFO:tensorflow:Oracle triggered exit\n",
      "WARNING:tensorflow:From /usr/local/lib/python3.6/dist-packages/tensorflow/python/training/tracking/tracking.py:111: Model.state_updates (from tensorflow.python.keras.engine.training) is deprecated and will be removed in a future version.\n",
      "Instructions for updating:\n",
      "This property should not be used in TensorFlow 2.0, as updates are applied automatically.\n",
      "WARNING:tensorflow:From /usr/local/lib/python3.6/dist-packages/tensorflow/python/training/tracking/tracking.py:111: Layer.updates (from tensorflow.python.keras.engine.base_layer) is deprecated and will be removed in a future version.\n",
      "Instructions for updating:\n",
      "This property should not be used in TensorFlow 2.0, as updates are applied automatically.\n",
      "INFO:tensorflow:Assets written to: /fridge_data/fridge_classifier_1/best_model/assets\n",
      "WARNING:tensorflow:Unresolved object in checkpoint: (root).optimizer.iter\n",
      "WARNING:tensorflow:Unresolved object in checkpoint: (root).optimizer.beta_1\n",
      "WARNING:tensorflow:Unresolved object in checkpoint: (root).optimizer.beta_2\n",
      "WARNING:tensorflow:Unresolved object in checkpoint: (root).optimizer.decay\n",
      "WARNING:tensorflow:Unresolved object in checkpoint: (root).optimizer.learning_rate\n",
      "WARNING:tensorflow:A checkpoint was restored (e.g. tf.train.Checkpoint.restore or tf.keras.Model.load_weights) but not all checkpointed values were used. See above for specific issues. Use expect_partial() on the load status object, e.g. tf.train.Checkpoint.restore(...).expect_partial(), to silence these warnings, or use assert_consumed() to make the check explicit. See https://www.tensorflow.org/guide/checkpoint#loading_mechanics for details.\n"
     ]
    }
   ],
   "source": [
    "fridge_classifier = ak.ImageClassifier(\n",
    "    num_classes=2,\n",
    "    multi_label=False,\n",
    "    loss='binary_crossentropy',\n",
    "    objective='val_accuracy',\n",
    "    project_name=\"fridge_classifier_1\",\n",
    "    directory=\"/fridge_data\"\n",
    ")\n",
    "\n",
    "fridge_classifier.fit(train_ds, validation_data=val_ds)\n"
   ]
  },
  {
   "cell_type": "code",
   "execution_count": 4,
   "metadata": {},
   "outputs": [
    {
     "output_type": "stream",
     "name": "stdout",
     "text": [
      "INFO:tensorflow:Assets written to: /fridge_data/fridge_classifier_model/assets\n"
     ]
    }
   ],
   "source": [
    "fridge_model = fridge_classifier.export_model()\n",
    "fridge_model.save(\"/fridge_data/fridge_classifier_model\", save_format=\"tf\")"
   ]
  },
  {
   "cell_type": "code",
   "execution_count": 107,
   "metadata": {},
   "outputs": [
    {
     "output_type": "stream",
     "name": "stdout",
     "text": [
      "85/85 [==============================] - 2s 26ms/step - loss: 0.6858 - accuracy: 0.6118\n"
     ]
    },
    {
     "output_type": "execute_result",
     "data": {
      "text/plain": [
       "{'loss': 0.6858354806900024, 'accuracy': 0.6117647290229797}"
      ]
     },
     "metadata": {},
     "execution_count": 107
    }
   ],
   "source": [
    "fridge_model.evaluate(val_ds, return_dict=True)"
   ]
  },
  {
   "cell_type": "code",
   "execution_count": 108,
   "metadata": {},
   "outputs": [
    {
     "output_type": "stream",
     "name": "stdout",
     "text": [
      "0.4989042\nBiden\n"
     ]
    }
   ],
   "source": [
    "my_fridge = tf.keras.preprocessing.image.load_img('./my_fridge.jpg', target_size=(img_height, img_width))\n",
    "my_fridge = tf.keras.preprocessing.image.img_to_array(my_fridge)\n",
    "predicted_label = fridge_model.predict(my_fridge[np.newaxis, ...])[0][0]\n",
    "print(predicted_label)\n",
    "if predicted_label < 0.5:\n",
    "    print('Biden')\n",
    "else:\n",
    "    print('Trump')"
   ]
  }
 ]
}